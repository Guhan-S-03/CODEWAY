{
 "cells": [
  {
   "cell_type": "markdown",
   "id": "r9GQWRerIZdO",
   "metadata": {
    "id": "r9GQWRerIZdO"
   },
   "source": [
    "**importing libraries**"
   ]
  },
  {
   "cell_type": "code",
   "execution_count": 1,
   "id": "119ccfbe",
   "metadata": {
    "id": "119ccfbe"
   },
   "outputs": [],
   "source": [
    "import numpy as np\n",
    "import pandas as pd\n",
    "import matplotlib.pyplot as plt\n",
    "import seaborn as sns\n",
    "import re\n",
    "import nltk\n",
    "import string\n",
    "from nltk.corpus import stopwords\n",
    "from nltk.stem import LancasterStemmer\n",
    "from sklearn.preprocessing import LabelEncoder\n",
    "from sklearn.model_selection import train_test_split\n",
    "from sklearn.linear_model import LogisticRegression\n",
    "from sklearn.naive_bayes import MultinomialNB\n",
    "from sklearn.svm import LinearSVC\n",
    "from sklearn.metrics import accuracy_score, classification_report\n",
    "from sklearn.feature_extraction.text import TfidfVectorizer\n",
    "from sklearn.feature_extraction.text import CountVectorizer"
   ]
  },
  {
   "cell_type": "markdown",
   "id": "Edm0TLCmIriC",
   "metadata": {
    "id": "Edm0TLCmIriC"
   },
   "source": [
    "**reading data and EDA**"
   ]
  },
  {
   "cell_type": "code",
   "execution_count": 2,
   "id": "a78aea52",
   "metadata": {
    "id": "a78aea52"
   },
   "outputs": [
    {
     "ename": "FileNotFoundError",
     "evalue": "[Errno 2] No such file or directory: 'train_data.txt'",
     "output_type": "error",
     "traceback": [
      "\u001b[1;31m---------------------------------------------------------------------------\u001b[0m",
      "\u001b[1;31mFileNotFoundError\u001b[0m                         Traceback (most recent call last)",
      "Cell \u001b[1;32mIn[2], line 1\u001b[0m\n\u001b[1;32m----> 1\u001b[0m train_data \u001b[38;5;241m=\u001b[39m pd\u001b[38;5;241m.\u001b[39mread_csv(\u001b[38;5;124m'\u001b[39m\u001b[38;5;124mtrain_data.txt\u001b[39m\u001b[38;5;124m'\u001b[39m,sep\u001b[38;5;241m=\u001b[39m\u001b[38;5;124m'\u001b[39m\u001b[38;5;124m:::\u001b[39m\u001b[38;5;124m'\u001b[39m,names\u001b[38;5;241m=\u001b[39m[\u001b[38;5;124m'\u001b[39m\u001b[38;5;124mID\u001b[39m\u001b[38;5;124m'\u001b[39m,\u001b[38;5;124m'\u001b[39m\u001b[38;5;124mTITLE\u001b[39m\u001b[38;5;124m'\u001b[39m,\u001b[38;5;124m'\u001b[39m\u001b[38;5;124mGENRE\u001b[39m\u001b[38;5;124m'\u001b[39m,\u001b[38;5;124m'\u001b[39m\u001b[38;5;124mDESCRIPTION\u001b[39m\u001b[38;5;124m'\u001b[39m],engine\u001b[38;5;241m=\u001b[39m\u001b[38;5;124m'\u001b[39m\u001b[38;5;124mpython\u001b[39m\u001b[38;5;124m'\u001b[39m)\n",
      "File \u001b[1;32m~\\anaconda3\\Lib\\site-packages\\pandas\\io\\parsers\\readers.py:912\u001b[0m, in \u001b[0;36mread_csv\u001b[1;34m(filepath_or_buffer, sep, delimiter, header, names, index_col, usecols, dtype, engine, converters, true_values, false_values, skipinitialspace, skiprows, skipfooter, nrows, na_values, keep_default_na, na_filter, verbose, skip_blank_lines, parse_dates, infer_datetime_format, keep_date_col, date_parser, date_format, dayfirst, cache_dates, iterator, chunksize, compression, thousands, decimal, lineterminator, quotechar, quoting, doublequote, escapechar, comment, encoding, encoding_errors, dialect, on_bad_lines, delim_whitespace, low_memory, memory_map, float_precision, storage_options, dtype_backend)\u001b[0m\n\u001b[0;32m    899\u001b[0m kwds_defaults \u001b[38;5;241m=\u001b[39m _refine_defaults_read(\n\u001b[0;32m    900\u001b[0m     dialect,\n\u001b[0;32m    901\u001b[0m     delimiter,\n\u001b[1;32m   (...)\u001b[0m\n\u001b[0;32m    908\u001b[0m     dtype_backend\u001b[38;5;241m=\u001b[39mdtype_backend,\n\u001b[0;32m    909\u001b[0m )\n\u001b[0;32m    910\u001b[0m kwds\u001b[38;5;241m.\u001b[39mupdate(kwds_defaults)\n\u001b[1;32m--> 912\u001b[0m \u001b[38;5;28;01mreturn\u001b[39;00m _read(filepath_or_buffer, kwds)\n",
      "File \u001b[1;32m~\\anaconda3\\Lib\\site-packages\\pandas\\io\\parsers\\readers.py:577\u001b[0m, in \u001b[0;36m_read\u001b[1;34m(filepath_or_buffer, kwds)\u001b[0m\n\u001b[0;32m    574\u001b[0m _validate_names(kwds\u001b[38;5;241m.\u001b[39mget(\u001b[38;5;124m\"\u001b[39m\u001b[38;5;124mnames\u001b[39m\u001b[38;5;124m\"\u001b[39m, \u001b[38;5;28;01mNone\u001b[39;00m))\n\u001b[0;32m    576\u001b[0m \u001b[38;5;66;03m# Create the parser.\u001b[39;00m\n\u001b[1;32m--> 577\u001b[0m parser \u001b[38;5;241m=\u001b[39m TextFileReader(filepath_or_buffer, \u001b[38;5;241m*\u001b[39m\u001b[38;5;241m*\u001b[39mkwds)\n\u001b[0;32m    579\u001b[0m \u001b[38;5;28;01mif\u001b[39;00m chunksize \u001b[38;5;129;01mor\u001b[39;00m iterator:\n\u001b[0;32m    580\u001b[0m     \u001b[38;5;28;01mreturn\u001b[39;00m parser\n",
      "File \u001b[1;32m~\\anaconda3\\Lib\\site-packages\\pandas\\io\\parsers\\readers.py:1407\u001b[0m, in \u001b[0;36mTextFileReader.__init__\u001b[1;34m(self, f, engine, **kwds)\u001b[0m\n\u001b[0;32m   1404\u001b[0m     \u001b[38;5;28mself\u001b[39m\u001b[38;5;241m.\u001b[39moptions[\u001b[38;5;124m\"\u001b[39m\u001b[38;5;124mhas_index_names\u001b[39m\u001b[38;5;124m\"\u001b[39m] \u001b[38;5;241m=\u001b[39m kwds[\u001b[38;5;124m\"\u001b[39m\u001b[38;5;124mhas_index_names\u001b[39m\u001b[38;5;124m\"\u001b[39m]\n\u001b[0;32m   1406\u001b[0m \u001b[38;5;28mself\u001b[39m\u001b[38;5;241m.\u001b[39mhandles: IOHandles \u001b[38;5;241m|\u001b[39m \u001b[38;5;28;01mNone\u001b[39;00m \u001b[38;5;241m=\u001b[39m \u001b[38;5;28;01mNone\u001b[39;00m\n\u001b[1;32m-> 1407\u001b[0m \u001b[38;5;28mself\u001b[39m\u001b[38;5;241m.\u001b[39m_engine \u001b[38;5;241m=\u001b[39m \u001b[38;5;28mself\u001b[39m\u001b[38;5;241m.\u001b[39m_make_engine(f, \u001b[38;5;28mself\u001b[39m\u001b[38;5;241m.\u001b[39mengine)\n",
      "File \u001b[1;32m~\\anaconda3\\Lib\\site-packages\\pandas\\io\\parsers\\readers.py:1661\u001b[0m, in \u001b[0;36mTextFileReader._make_engine\u001b[1;34m(self, f, engine)\u001b[0m\n\u001b[0;32m   1659\u001b[0m     \u001b[38;5;28;01mif\u001b[39;00m \u001b[38;5;124m\"\u001b[39m\u001b[38;5;124mb\u001b[39m\u001b[38;5;124m\"\u001b[39m \u001b[38;5;129;01mnot\u001b[39;00m \u001b[38;5;129;01min\u001b[39;00m mode:\n\u001b[0;32m   1660\u001b[0m         mode \u001b[38;5;241m+\u001b[39m\u001b[38;5;241m=\u001b[39m \u001b[38;5;124m\"\u001b[39m\u001b[38;5;124mb\u001b[39m\u001b[38;5;124m\"\u001b[39m\n\u001b[1;32m-> 1661\u001b[0m \u001b[38;5;28mself\u001b[39m\u001b[38;5;241m.\u001b[39mhandles \u001b[38;5;241m=\u001b[39m get_handle(\n\u001b[0;32m   1662\u001b[0m     f,\n\u001b[0;32m   1663\u001b[0m     mode,\n\u001b[0;32m   1664\u001b[0m     encoding\u001b[38;5;241m=\u001b[39m\u001b[38;5;28mself\u001b[39m\u001b[38;5;241m.\u001b[39moptions\u001b[38;5;241m.\u001b[39mget(\u001b[38;5;124m\"\u001b[39m\u001b[38;5;124mencoding\u001b[39m\u001b[38;5;124m\"\u001b[39m, \u001b[38;5;28;01mNone\u001b[39;00m),\n\u001b[0;32m   1665\u001b[0m     compression\u001b[38;5;241m=\u001b[39m\u001b[38;5;28mself\u001b[39m\u001b[38;5;241m.\u001b[39moptions\u001b[38;5;241m.\u001b[39mget(\u001b[38;5;124m\"\u001b[39m\u001b[38;5;124mcompression\u001b[39m\u001b[38;5;124m\"\u001b[39m, \u001b[38;5;28;01mNone\u001b[39;00m),\n\u001b[0;32m   1666\u001b[0m     memory_map\u001b[38;5;241m=\u001b[39m\u001b[38;5;28mself\u001b[39m\u001b[38;5;241m.\u001b[39moptions\u001b[38;5;241m.\u001b[39mget(\u001b[38;5;124m\"\u001b[39m\u001b[38;5;124mmemory_map\u001b[39m\u001b[38;5;124m\"\u001b[39m, \u001b[38;5;28;01mFalse\u001b[39;00m),\n\u001b[0;32m   1667\u001b[0m     is_text\u001b[38;5;241m=\u001b[39mis_text,\n\u001b[0;32m   1668\u001b[0m     errors\u001b[38;5;241m=\u001b[39m\u001b[38;5;28mself\u001b[39m\u001b[38;5;241m.\u001b[39moptions\u001b[38;5;241m.\u001b[39mget(\u001b[38;5;124m\"\u001b[39m\u001b[38;5;124mencoding_errors\u001b[39m\u001b[38;5;124m\"\u001b[39m, \u001b[38;5;124m\"\u001b[39m\u001b[38;5;124mstrict\u001b[39m\u001b[38;5;124m\"\u001b[39m),\n\u001b[0;32m   1669\u001b[0m     storage_options\u001b[38;5;241m=\u001b[39m\u001b[38;5;28mself\u001b[39m\u001b[38;5;241m.\u001b[39moptions\u001b[38;5;241m.\u001b[39mget(\u001b[38;5;124m\"\u001b[39m\u001b[38;5;124mstorage_options\u001b[39m\u001b[38;5;124m\"\u001b[39m, \u001b[38;5;28;01mNone\u001b[39;00m),\n\u001b[0;32m   1670\u001b[0m )\n\u001b[0;32m   1671\u001b[0m \u001b[38;5;28;01massert\u001b[39;00m \u001b[38;5;28mself\u001b[39m\u001b[38;5;241m.\u001b[39mhandles \u001b[38;5;129;01mis\u001b[39;00m \u001b[38;5;129;01mnot\u001b[39;00m \u001b[38;5;28;01mNone\u001b[39;00m\n\u001b[0;32m   1672\u001b[0m f \u001b[38;5;241m=\u001b[39m \u001b[38;5;28mself\u001b[39m\u001b[38;5;241m.\u001b[39mhandles\u001b[38;5;241m.\u001b[39mhandle\n",
      "File \u001b[1;32m~\\anaconda3\\Lib\\site-packages\\pandas\\io\\common.py:859\u001b[0m, in \u001b[0;36mget_handle\u001b[1;34m(path_or_buf, mode, encoding, compression, memory_map, is_text, errors, storage_options)\u001b[0m\n\u001b[0;32m    854\u001b[0m \u001b[38;5;28;01melif\u001b[39;00m \u001b[38;5;28misinstance\u001b[39m(handle, \u001b[38;5;28mstr\u001b[39m):\n\u001b[0;32m    855\u001b[0m     \u001b[38;5;66;03m# Check whether the filename is to be opened in binary mode.\u001b[39;00m\n\u001b[0;32m    856\u001b[0m     \u001b[38;5;66;03m# Binary mode does not support 'encoding' and 'newline'.\u001b[39;00m\n\u001b[0;32m    857\u001b[0m     \u001b[38;5;28;01mif\u001b[39;00m ioargs\u001b[38;5;241m.\u001b[39mencoding \u001b[38;5;129;01mand\u001b[39;00m \u001b[38;5;124m\"\u001b[39m\u001b[38;5;124mb\u001b[39m\u001b[38;5;124m\"\u001b[39m \u001b[38;5;129;01mnot\u001b[39;00m \u001b[38;5;129;01min\u001b[39;00m ioargs\u001b[38;5;241m.\u001b[39mmode:\n\u001b[0;32m    858\u001b[0m         \u001b[38;5;66;03m# Encoding\u001b[39;00m\n\u001b[1;32m--> 859\u001b[0m         handle \u001b[38;5;241m=\u001b[39m \u001b[38;5;28mopen\u001b[39m(\n\u001b[0;32m    860\u001b[0m             handle,\n\u001b[0;32m    861\u001b[0m             ioargs\u001b[38;5;241m.\u001b[39mmode,\n\u001b[0;32m    862\u001b[0m             encoding\u001b[38;5;241m=\u001b[39mioargs\u001b[38;5;241m.\u001b[39mencoding,\n\u001b[0;32m    863\u001b[0m             errors\u001b[38;5;241m=\u001b[39merrors,\n\u001b[0;32m    864\u001b[0m             newline\u001b[38;5;241m=\u001b[39m\u001b[38;5;124m\"\u001b[39m\u001b[38;5;124m\"\u001b[39m,\n\u001b[0;32m    865\u001b[0m         )\n\u001b[0;32m    866\u001b[0m     \u001b[38;5;28;01melse\u001b[39;00m:\n\u001b[0;32m    867\u001b[0m         \u001b[38;5;66;03m# Binary mode\u001b[39;00m\n\u001b[0;32m    868\u001b[0m         handle \u001b[38;5;241m=\u001b[39m \u001b[38;5;28mopen\u001b[39m(handle, ioargs\u001b[38;5;241m.\u001b[39mmode)\n",
      "\u001b[1;31mFileNotFoundError\u001b[0m: [Errno 2] No such file or directory: 'train_data.txt'"
     ]
    }
   ],
   "source": [
    "train_data = pd.read_csv('train_data.txt',sep=':::',names=['ID','TITLE','GENRE','DESCRIPTION'],engine='python')"
   ]
  },
  {
   "cell_type": "code",
   "execution_count": null,
   "id": "728fa3a2",
   "metadata": {
    "id": "728fa3a2",
    "outputId": "b3c7b336-64a1-451c-eda1-f8667089794e"
   },
   "outputs": [],
   "source": [
    "train_data"
   ]
  },
  {
   "cell_type": "code",
   "execution_count": null,
   "id": "840586ba",
   "metadata": {
    "id": "840586ba",
    "outputId": "2c3f6a53-6d3f-434b-eddb-a1c23f0a6aba"
   },
   "outputs": [],
   "source": [
    "train_data.info()"
   ]
  },
  {
   "cell_type": "code",
   "execution_count": null,
   "id": "cf468877",
   "metadata": {
    "id": "cf468877",
    "outputId": "61e67db9-48ac-44fc-b695-21c3706a2a63"
   },
   "outputs": [],
   "source": [
    "train_data.describe()"
   ]
  },
  {
   "cell_type": "code",
   "execution_count": null,
   "id": "b7ca096b",
   "metadata": {
    "id": "b7ca096b",
    "outputId": "bf80ad9a-31e2-4819-d54a-e577c3364f49"
   },
   "outputs": [],
   "source": [
    "train_data.isnull().sum()"
   ]
  },
  {
   "cell_type": "code",
   "execution_count": null,
   "id": "e963b382",
   "metadata": {
    "id": "e963b382"
   },
   "outputs": [],
   "source": [
    "test_data = pd.read_csv('test_data.txt',sep=':::',names=['ID','TITLE','DESCRIPTION'],engine='python')"
   ]
  },
  {
   "cell_type": "code",
   "execution_count": null,
   "id": "e3e8e7b7",
   "metadata": {
    "id": "e3e8e7b7",
    "outputId": "5d932805-0b15-4900-aa46-5688f80aa6e4",
    "scrolled": true
   },
   "outputs": [],
   "source": [
    "test_data"
   ]
  },
  {
   "cell_type": "code",
   "execution_count": null,
   "id": "18115222",
   "metadata": {
    "id": "18115222",
    "outputId": "ad2a07e7-9ea6-4da6-8979-5c711d13cf6b"
   },
   "outputs": [],
   "source": [
    "test_data.info()"
   ]
  },
  {
   "cell_type": "code",
   "execution_count": null,
   "id": "6cc8a414",
   "metadata": {
    "id": "6cc8a414",
    "outputId": "fe41183b-cd5c-4ddc-b9e5-13d35567f3c4"
   },
   "outputs": [],
   "source": [
    "test_data.describe()"
   ]
  },
  {
   "cell_type": "code",
   "execution_count": null,
   "id": "49c95fb2",
   "metadata": {
    "id": "49c95fb2",
    "outputId": "fbc7ec2a-cc7c-41cb-9ba0-ef0cc26c26a4"
   },
   "outputs": [],
   "source": [
    "test_data.isnull().sum()"
   ]
  },
  {
   "cell_type": "markdown",
   "id": "qNCmjK5mIxUA",
   "metadata": {
    "id": "qNCmjK5mIxUA"
   },
   "source": [
    "**Visualizing the distribution of genre**"
   ]
  },
  {
   "cell_type": "code",
   "execution_count": null,
   "id": "b9eeec65",
   "metadata": {
    "id": "b9eeec65",
    "outputId": "f9411739-2e9e-442d-f067-23a7ef6d5203"
   },
   "outputs": [],
   "source": [
    "plt.figure(figsize=(14,10))\n",
    "val_counts=train_data['GENRE'].value_counts()\n",
    "sns.barplot(x=val_counts.index,y=val_counts,color='lightgreen')\n",
    "plt.xlabel(\"GENRE\",fontweight='bold')\n",
    "plt.ylabel(\"COUNT\",fontweight='bold')\n",
    "plt.title(\"distribution of genre feature\",fontweight='bold')\n",
    "plt.xticks(rotation=90,fontweight='bold');"
   ]
  },
  {
   "cell_type": "code",
   "execution_count": null,
   "id": "96504c68",
   "metadata": {
    "id": "96504c68",
    "outputId": "2c65a250-d799-4fdd-bcd0-456fa17f7397"
   },
   "outputs": [],
   "source": [
    "plt.figure(figsize=(14,10))\n",
    "sns.countplot(data=train_data,y='GENRE',order=train_data['GENRE'].value_counts().index,palette='viridis')\n",
    "plt.xlabel('COUNT',fontweight='bold')\n",
    "plt.ylabel('GENRE',fontweight='bold')"
   ]
  },
  {
   "cell_type": "code",
   "execution_count": null,
   "id": "4f95c250",
   "metadata": {
    "id": "4f95c250"
   },
   "outputs": [],
   "source": [
    "stemmer = LancasterStemmer()\n",
    "stopwords=set(stopwords.words('english'))"
   ]
  },
  {
   "cell_type": "markdown",
   "id": "GBvxfgp5I39V",
   "metadata": {
    "id": "GBvxfgp5I39V"
   },
   "source": [
    "**data preprocessing**"
   ]
  },
  {
   "cell_type": "code",
   "execution_count": null,
   "id": "308d21a4",
   "metadata": {
    "id": "308d21a4"
   },
   "outputs": [],
   "source": [
    "def text_cleaning(data):\n",
    "    data=data.lower()\n",
    "    data = re.sub(r'@\\S+', '', data)\n",
    "    data = re.sub(r'http\\S+', '', data)\n",
    "    data = re.sub(r'pic.\\S+', '', data)\n",
    "    data = re.sub(r\"[^a-zA-Z+']\", ' ', data)\n",
    "    data =re.sub(r'\\s+[a-zA-Z]\\s+', ' ', data + ' ')\n",
    "    data = \"\".join([i for i in data if i not in string.punctuation])\n",
    "    words = nltk.word_tokenize(data)\n",
    "    data = \" \".join([i for i in words if i not in stopwords and len(i) > 2])\n",
    "    data = re.sub(\"\\s[\\s]+\", \" \", data).strip()\n",
    "    return data"
   ]
  },
  {
   "cell_type": "code",
   "execution_count": null,
   "id": "e6d68b58",
   "metadata": {
    "id": "e6d68b58"
   },
   "outputs": [],
   "source": [
    "train_data['Cleaned_Des']=train_data['DESCRIPTION'].apply(text_cleaning)\n",
    "test_data['Cleaned_Des']=test_data['DESCRIPTION'].apply(text_cleaning)"
   ]
  },
  {
   "cell_type": "code",
   "execution_count": null,
   "id": "e13d6e08",
   "metadata": {
    "id": "e13d6e08",
    "outputId": "bdf3f0f4-d135-458b-c55f-61821f73cbd8"
   },
   "outputs": [],
   "source": [
    "train_data"
   ]
  },
  {
   "cell_type": "code",
   "execution_count": null,
   "id": "8fd7383f",
   "metadata": {
    "id": "8fd7383f",
    "outputId": "af0c267e-56c2-4767-c943-ba18c049b8d2"
   },
   "outputs": [],
   "source": [
    "print(\"shape before droping duplicates\",train_data.shape)\n",
    "train_data = train_data.drop_duplicates()\n",
    "print(\"shape after droping duplicates\",train_data.shape)"
   ]
  },
  {
   "cell_type": "markdown",
   "id": "bnAKEc8AI8Qj",
   "metadata": {
    "id": "bnAKEc8AI8Qj"
   },
   "source": [
    "**Visualizing the preprocessed description and its length**"
   ]
  },
  {
   "cell_type": "code",
   "execution_count": null,
   "id": "d5fb6630",
   "metadata": {
    "id": "d5fb6630",
    "outputId": "bca29b3f-6f15-4973-c6aa-b6a0818590e9"
   },
   "outputs": [],
   "source": [
    "train_data['length_CleanDes'] = train_data['Cleaned_Des'].apply(len)\n",
    "plt.figure(figsize=(14, 10))\n",
    "sns.histplot(data=train_data, x='length_CleanDes', bins=20, kde=True, color='lightgreen')\n",
    "plt.xlabel('Length',fontweight='bold')\n",
    "plt.ylabel('Frequency',fontweight='bold')\n",
    "plt.title('Distribution of Lengths',fontweight='bold')\n",
    "plt.show()"
   ]
  },
  {
   "cell_type": "code",
   "execution_count": null,
   "id": "9d93a203",
   "metadata": {
    "id": "9d93a203",
    "outputId": "2df0d4b8-ccce-4f54-e538-323a1c1717fb"
   },
   "outputs": [],
   "source": [
    "plt.figure(figsize=(12, 6))\n",
    "plt.subplot(1, 2, 1)\n",
    "original_lengths = train_data['DESCRIPTION'].apply(len)\n",
    "plt.hist(original_lengths, bins=range(0, max(original_lengths) + 100, 100), color='blue', alpha=0.7)\n",
    "plt.title('Original Text Length')\n",
    "plt.xlabel('Text Length')\n",
    "plt.ylabel('Frequency')\n",
    "\n",
    "plt.subplot(1, 2, 2)\n",
    "cleaned_lengths=train_data['Cleaned_Des'].apply(len)\n",
    "plt.hist(cleaned_lengths, bins=range(0, max(cleaned_lengths) + 100, 100), color='lightgreen', alpha=0.7)\n",
    "plt.title('Cleaned Text Length')\n",
    "plt.xlabel('Text Length')\n",
    "plt.ylabel('Frequency')\n",
    "\n",
    "plt.tight_layout()\n",
    "plt.show()"
   ]
  },
  {
   "cell_type": "markdown",
   "id": "fmKo_Ag4JaIz",
   "metadata": {
    "id": "fmKo_Ag4JaIz"
   },
   "source": [
    "**Encoding the target genre and splitting the data before word embeddings**"
   ]
  },
  {
   "cell_type": "code",
   "execution_count": null,
   "id": "d588c007",
   "metadata": {
    "id": "d588c007",
    "outputId": "ff9ac9c9-3332-4856-9001-811f3cbe0742"
   },
   "outputs": [],
   "source": [
    "label_encoder = LabelEncoder()\n",
    "train_data['Genre_encoded'] = label_encoder.fit_transform(train_data['GENRE'])\n",
    "class_names= list(label_encoder.classes_)\n",
    "class_names"
   ]
  },
  {
   "cell_type": "code",
   "execution_count": null,
   "id": "be29d8b3",
   "metadata": {
    "id": "be29d8b3",
    "outputId": "5cbe8a6b-8860-4c98-8542-d86503014ff6"
   },
   "outputs": [],
   "source": [
    "train_data['Genre_encoded']"
   ]
  },
  {
   "cell_type": "code",
   "execution_count": null,
   "id": "e016ba81",
   "metadata": {
    "id": "e016ba81"
   },
   "outputs": [],
   "source": [
    "x = train_data['Cleaned_Des']\n",
    "y = train_data['Genre_encoded']\n",
    "x_train,x_val,y_train,y_val = train_test_split(x,y,test_size=0.2,random_state=42)"
   ]
  },
  {
   "cell_type": "markdown",
   "id": "d6f26d5d",
   "metadata": {
    "id": "d6f26d5d"
   },
   "source": [
    " # using TFIDF Vectorizer"
   ]
  },
  {
   "cell_type": "markdown",
   "id": "OX8KALePJJGN",
   "metadata": {
    "id": "OX8KALePJJGN"
   },
   "source": [
    "**using three different classifiers for this method**"
   ]
  },
  {
   "cell_type": "code",
   "execution_count": null,
   "id": "4169c147",
   "metadata": {
    "id": "4169c147"
   },
   "outputs": [],
   "source": [
    "tfidf = TfidfVectorizer()\n",
    "x_tf_train = tfidf.fit_transform(x_train)\n",
    "x_tf_test = tfidf.transform(test_data['Cleaned_Des'])\n",
    "x_tf_val = tfidf.transform(x_val)"
   ]
  },
  {
   "cell_type": "code",
   "execution_count": null,
   "id": "7a29eaf3",
   "metadata": {
    "id": "7a29eaf3",
    "outputId": "b7eae649-6c29-4daa-92f4-bf0186563c1a"
   },
   "outputs": [],
   "source": [
    "classifier1=MultinomialNB()\n",
    "classifier1.fit(x_tf_train,y_train)"
   ]
  },
  {
   "cell_type": "code",
   "execution_count": null,
   "id": "739f81c6",
   "metadata": {
    "id": "739f81c6"
   },
   "outputs": [],
   "source": [
    "y_pred = classifier1.predict(x_tf_val)"
   ]
  },
  {
   "cell_type": "code",
   "execution_count": null,
   "id": "c55e3733",
   "metadata": {
    "id": "c55e3733",
    "outputId": "894fafed-b936-41cb-d1ac-aff59fcfea9c"
   },
   "outputs": [],
   "source": [
    "accuracy = accuracy_score(y_val, y_pred)\n",
    "print(\"Validation Accuracy:\", accuracy)"
   ]
  },
  {
   "cell_type": "code",
   "execution_count": null,
   "id": "3a9e8490",
   "metadata": {
    "id": "3a9e8490",
    "outputId": "46ece4f7-f2d5-4fc6-8baf-bea6929fc4f9"
   },
   "outputs": [],
   "source": [
    "print(classification_report(y_val, y_pred,zero_division=1))"
   ]
  },
  {
   "cell_type": "code",
   "execution_count": null,
   "id": "4d446b80",
   "metadata": {
    "id": "4d446b80",
    "outputId": "6a680c89-7452-4b6d-eb5c-499508019cc0"
   },
   "outputs": [],
   "source": [
    "from sklearn.metrics import confusion_matrix\n",
    "cm = confusion_matrix(y_val, y_pred)\n",
    "plt.figure(figsize=(15, 15))\n",
    "sns.heatmap(cm, annot=True, fmt='d', cbar=False, xticklabels=class_names, yticklabels=class_names)\n",
    "plt.xlabel('Predicted Labels')\n",
    "plt.ylabel('True Labels')\n",
    "plt.title('Confusion Matrix Heatmap')\n",
    "plt.show()"
   ]
  },
  {
   "cell_type": "code",
   "execution_count": null,
   "id": "3541d0c6",
   "metadata": {
    "id": "3541d0c6",
    "outputId": "0a94308b-ea83-4fb5-f7bc-12796c7d13a1"
   },
   "outputs": [],
   "source": [
    "classifier2 = LogisticRegression()\n",
    "classifier2.fit(x_tf_train,y_train)"
   ]
  },
  {
   "cell_type": "code",
   "execution_count": null,
   "id": "84699d16",
   "metadata": {
    "id": "84699d16"
   },
   "outputs": [],
   "source": [
    "y_pred1 = classifier2.predict(x_tf_val)"
   ]
  },
  {
   "cell_type": "code",
   "execution_count": null,
   "id": "ffc8b395",
   "metadata": {
    "id": "ffc8b395",
    "outputId": "e4aaf197-c222-464b-aee3-66a6f6b157eb"
   },
   "outputs": [],
   "source": [
    "accuracy = accuracy_score(y_val, y_pred1)\n",
    "print(\"Validation Accuracy:\", accuracy)"
   ]
  },
  {
   "cell_type": "code",
   "execution_count": null,
   "id": "b0e39f7b",
   "metadata": {
    "id": "b0e39f7b",
    "outputId": "0cb8c3e1-3d64-499e-eefe-7ed94dc1c9ce"
   },
   "outputs": [],
   "source": [
    "print(classification_report(y_val, y_pred1,zero_division=1))"
   ]
  },
  {
   "cell_type": "code",
   "execution_count": null,
   "id": "18683b94",
   "metadata": {
    "id": "18683b94",
    "outputId": "eacff131-728a-4753-fdf7-73da284b56e4"
   },
   "outputs": [],
   "source": [
    "from sklearn.metrics import confusion_matrix\n",
    "cm = confusion_matrix(y_val, y_pred1)\n",
    "plt.figure(figsize=(15, 15))\n",
    "sns.heatmap(cm, annot=True, fmt='d', cbar=False, xticklabels=class_names, yticklabels=class_names)\n",
    "plt.xlabel('Predicted Labels')\n",
    "plt.ylabel('True Labels')\n",
    "plt.title('Confusion Matrix Heatmap')\n",
    "plt.show()"
   ]
  },
  {
   "cell_type": "code",
   "execution_count": null,
   "id": "181b6d3b",
   "metadata": {
    "id": "181b6d3b",
    "outputId": "c269232f-a46e-4cd6-f3d8-0e75d7bd6a0f"
   },
   "outputs": [],
   "source": [
    "classifier3 = LinearSVC()\n",
    "classifier3.fit(x_tf_train,y_train)"
   ]
  },
  {
   "cell_type": "code",
   "execution_count": null,
   "id": "e3b7878d",
   "metadata": {
    "id": "e3b7878d"
   },
   "outputs": [],
   "source": [
    "y_pred2 = classifier3.predict(x_tf_val)"
   ]
  },
  {
   "cell_type": "code",
   "execution_count": null,
   "id": "09b5d9df",
   "metadata": {
    "id": "09b5d9df",
    "outputId": "fe4d0ab7-c660-4eb3-d8ba-47a8f7a2a5f0"
   },
   "outputs": [],
   "source": [
    "accuracy = accuracy_score(y_val, y_pred2)\n",
    "print(\"Validation Accuracy:\", accuracy)"
   ]
  },
  {
   "cell_type": "code",
   "execution_count": null,
   "id": "c5ca3633",
   "metadata": {
    "id": "c5ca3633",
    "outputId": "e80b66ba-dae9-403c-ab92-61966120ead1"
   },
   "outputs": [],
   "source": [
    "print(classification_report(y_val, y_pred2,zero_division=1))"
   ]
  },
  {
   "cell_type": "code",
   "execution_count": null,
   "id": "143721ee",
   "metadata": {
    "id": "143721ee",
    "outputId": "92b3c3ed-1c85-4b7c-eca5-5e5cd57cc0c4"
   },
   "outputs": [],
   "source": [
    "from sklearn.metrics import confusion_matrix\n",
    "cm = confusion_matrix(y_val, y_pred2)\n",
    "plt.figure(figsize=(15, 15))\n",
    "sns.heatmap(cm, annot=True, fmt='d', cbar=False, xticklabels=class_names, yticklabels=class_names)\n",
    "plt.xlabel('Predicted Labels')\n",
    "plt.ylabel('True Labels')\n",
    "plt.title('Confusion Matrix Heatmap')\n",
    "plt.show()"
   ]
  },
  {
   "cell_type": "markdown",
   "id": "70e86519",
   "metadata": {
    "id": "70e86519"
   },
   "source": [
    "# using CountVectorizer"
   ]
  },
  {
   "cell_type": "markdown",
   "id": "Cn547UGFJSe2",
   "metadata": {
    "id": "Cn547UGFJSe2"
   },
   "source": [
    "**using three different classifiers for this method**"
   ]
  },
  {
   "cell_type": "code",
   "execution_count": null,
   "id": "39d7ecc6",
   "metadata": {
    "id": "39d7ecc6"
   },
   "outputs": [],
   "source": [
    "cv = CountVectorizer()\n",
    "x_cv_train = cv.fit_transform(x_train)\n",
    "x_cv_test =  cv.transform(test_data['Cleaned_Des'])\n",
    "x_cv_val = cv.transform(x_val)"
   ]
  },
  {
   "cell_type": "code",
   "execution_count": null,
   "id": "f1e8d100",
   "metadata": {
    "id": "f1e8d100",
    "outputId": "b9becfc4-72a2-42ff-9d41-5e99b26c9755"
   },
   "outputs": [],
   "source": [
    "classifier4=MultinomialNB()\n",
    "classifier4.fit(x_cv_train,y_train)"
   ]
  },
  {
   "cell_type": "code",
   "execution_count": null,
   "id": "aa342116",
   "metadata": {
    "id": "aa342116"
   },
   "outputs": [],
   "source": [
    "y_pred = classifier4.predict(x_cv_val)"
   ]
  },
  {
   "cell_type": "code",
   "execution_count": null,
   "id": "27b5a6b0",
   "metadata": {
    "id": "27b5a6b0",
    "outputId": "86dadd51-47cb-42fc-e5bb-d76d0121ff70"
   },
   "outputs": [],
   "source": [
    "accuracy = accuracy_score(y_val, y_pred)\n",
    "print(\"Validation Accuracy:\", accuracy)"
   ]
  },
  {
   "cell_type": "code",
   "execution_count": null,
   "id": "35889b7d",
   "metadata": {
    "id": "35889b7d",
    "outputId": "13b6b393-a2f2-49b6-d84e-90434aba1b2b"
   },
   "outputs": [],
   "source": [
    "print(classification_report(y_val, y_pred,zero_division=1))"
   ]
  },
  {
   "cell_type": "code",
   "execution_count": null,
   "id": "616dc5ed",
   "metadata": {
    "id": "616dc5ed",
    "outputId": "7083a5ca-051d-4852-f64c-c378a4a840b5"
   },
   "outputs": [],
   "source": [
    "from sklearn.metrics import confusion_matrix\n",
    "cm = confusion_matrix(y_val, y_pred)\n",
    "plt.figure(figsize=(15, 15))\n",
    "sns.heatmap(cm, annot=True, fmt='d', cbar=False, xticklabels=class_names, yticklabels=class_names)\n",
    "plt.xlabel('Predicted Labels')\n",
    "plt.ylabel('True Labels')\n",
    "plt.title('Confusion Matrix Heatmap')\n",
    "plt.show()"
   ]
  },
  {
   "cell_type": "code",
   "execution_count": null,
   "id": "3c9efc34",
   "metadata": {
    "id": "3c9efc34",
    "outputId": "adf856ec-607c-4de7-ae71-86348bc9756e"
   },
   "outputs": [],
   "source": [
    "classifier5 = LogisticRegression()\n",
    "classifier5.fit(x_cv_train,y_train)"
   ]
  },
  {
   "cell_type": "code",
   "execution_count": null,
   "id": "7155d723",
   "metadata": {
    "id": "7155d723"
   },
   "outputs": [],
   "source": [
    "y_pred1 = classifier5.predict(x_cv_val)"
   ]
  },
  {
   "cell_type": "code",
   "execution_count": null,
   "id": "968dab20",
   "metadata": {
    "id": "968dab20",
    "outputId": "03354312-05ea-4568-d7ff-2d2379bcd4c7"
   },
   "outputs": [],
   "source": [
    "accuracy = accuracy_score(y_val, y_pred1)\n",
    "print(\"Validation Accuracy:\", accuracy)"
   ]
  },
  {
   "cell_type": "code",
   "execution_count": null,
   "id": "9bf4b80a",
   "metadata": {
    "id": "9bf4b80a",
    "outputId": "4ec092b8-a9fc-4415-d529-1b78e39da973"
   },
   "outputs": [],
   "source": [
    "print(classification_report(y_val, y_pred1,zero_division=1))"
   ]
  },
  {
   "cell_type": "code",
   "execution_count": null,
   "id": "71e682f5",
   "metadata": {
    "id": "71e682f5",
    "outputId": "946e0ce8-e059-4a59-a281-9d6a7ef38a83"
   },
   "outputs": [],
   "source": [
    "from sklearn.metrics import confusion_matrix\n",
    "cm = confusion_matrix(y_val, y_pred1)\n",
    "plt.figure(figsize=(15, 15))\n",
    "sns.heatmap(cm, annot=True, fmt='d', cbar=False, xticklabels=class_names, yticklabels=class_names)\n",
    "plt.xlabel('Predicted Labels')\n",
    "plt.ylabel('True Labels')\n",
    "plt.title('Confusion Matrix Heatmap')\n",
    "plt.show()"
   ]
  },
  {
   "cell_type": "code",
   "execution_count": null,
   "id": "ec9093a9",
   "metadata": {
    "id": "ec9093a9",
    "outputId": "20526785-2305-4851-8370-1c045d6be2ea"
   },
   "outputs": [],
   "source": [
    "classifier6 = LinearSVC()\n",
    "classifier6.fit(x_cv_train,y_train)"
   ]
  },
  {
   "cell_type": "code",
   "execution_count": null,
   "id": "45c6afd7",
   "metadata": {
    "id": "45c6afd7"
   },
   "outputs": [],
   "source": [
    "y_pred2 = classifier6.predict(x_cv_val)"
   ]
  },
  {
   "cell_type": "code",
   "execution_count": null,
   "id": "596a337a",
   "metadata": {
    "id": "596a337a",
    "outputId": "0e6f0f1a-4416-4062-ada4-686ca726ef5e"
   },
   "outputs": [],
   "source": [
    "accuracy = accuracy_score(y_val, y_pred2)\n",
    "print(\"Validation Accuracy:\", accuracy)"
   ]
  },
  {
   "cell_type": "code",
   "execution_count": null,
   "id": "5ba65b90",
   "metadata": {
    "id": "5ba65b90",
    "outputId": "fdaa74b3-bfd3-4d75-a425-20a8839dc3f2"
   },
   "outputs": [],
   "source": [
    "print(classification_report(y_val, y_pred2,zero_division=1))"
   ]
  },
  {
   "cell_type": "code",
   "execution_count": null,
   "id": "f829574c",
   "metadata": {
    "id": "f829574c",
    "outputId": "c15dc149-96b0-49e7-e6a1-16e178bbe478"
   },
   "outputs": [],
   "source": [
    "from sklearn.metrics import confusion_matrix\n",
    "cm = confusion_matrix(y_val, y_pred2)\n",
    "plt.figure(figsize=(15, 15))\n",
    "sns.heatmap(cm, annot=True, fmt='d', cbar=False, xticklabels=class_names, yticklabels=class_names)\n",
    "plt.xlabel('Predicted Labels')\n",
    "plt.ylabel('True Labels')\n",
    "plt.title('Confusion Matrix Heatmap')\n",
    "plt.show()"
   ]
  }
 ],
 "metadata": {
  "colab": {
   "provenance": []
  },
  "kernelspec": {
   "display_name": "Python 3 (ipykernel)",
   "language": "python",
   "name": "python3"
  },
  "language_info": {
   "codemirror_mode": {
    "name": "ipython",
    "version": 3
   },
   "file_extension": ".py",
   "mimetype": "text/x-python",
   "name": "python",
   "nbconvert_exporter": "python",
   "pygments_lexer": "ipython3",
   "version": "3.11.5"
  }
 },
 "nbformat": 4,
 "nbformat_minor": 5
}
